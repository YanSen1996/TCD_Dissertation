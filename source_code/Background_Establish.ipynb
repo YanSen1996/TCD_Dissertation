{
 "cells": [
  {
   "cell_type": "code",
   "execution_count": 1,
   "metadata": {},
   "outputs": [],
   "source": [
    "import numpy as np\n",
    "import cv2\n",
    "import matplotlib.pyplot as plt"
   ]
  },
  {
   "cell_type": "code",
   "execution_count": 4,
   "metadata": {
    "scrolled": false
   },
   "outputs": [],
   "source": [
    "groundtruth = list()\n",
    "\n",
    "for i in range(47):\n",
    "    filename = \"G\" + str(i) + \".jpg\"\n",
    "    # Read an image (26.jpg as an example)\n",
    "    img = cv2.imread(filename)\n",
    "    img_gray = cv2.cvtColor(img,cv2.COLOR_RGB2GRAY)\n",
    "    # Detect the edge of manhole cover\n",
    "    img_can = cv2.Canny(img_gray, 0, 255)\n",
    "    cont, hier = cv2.findContours(np.array(img_can), cv2.RETR_EXTERNAL, cv2.CHAIN_APPROX_NONE)\n",
    "    \n",
    "    ell = list()\n",
    "    \n",
    "    for j in range(len(cont)):\n",
    "        ell.append(np.array(cv2.fitEllipse(cont[j])))\n",
    "\n",
    "        \n",
    "    groundtruth.append(np.array(ell))"
   ]
  },
  {
   "cell_type": "code",
   "execution_count": 5,
   "metadata": {},
   "outputs": [
    {
     "data": {
      "text/plain": [
       "47"
      ]
     },
     "execution_count": 5,
     "metadata": {},
     "output_type": "execute_result"
    }
   ],
   "source": [
    "len(groundtruth)"
   ]
  },
  {
   "cell_type": "code",
   "execution_count": 7,
   "metadata": {},
   "outputs": [],
   "source": [
    "GT = np.array(groundtruth)\n"
   ]
  },
  {
   "cell_type": "code",
   "execution_count": 8,
   "metadata": {
    "scrolled": false
   },
   "outputs": [
    {
     "data": {
      "text/plain": [
       "array([[(179.19984436035156, 178.19021606445312),\n",
       "        (273.4183044433594, 273.80206298828125), 132.802978515625]],\n",
       "      dtype=object)"
      ]
     },
     "execution_count": 8,
     "metadata": {},
     "output_type": "execute_result"
    }
   ],
   "source": [
    "GT[0]"
   ]
  },
  {
   "cell_type": "code",
   "execution_count": 10,
   "metadata": {},
   "outputs": [],
   "source": [
    "np.save(\"groundtruth.npy\",GT)"
   ]
  },
  {
   "cell_type": "code",
   "execution_count": null,
   "metadata": {},
   "outputs": [],
   "source": []
  }
 ],
 "metadata": {
  "kernelspec": {
   "display_name": "Python 3",
   "language": "python",
   "name": "python3"
  },
  "language_info": {
   "codemirror_mode": {
    "name": "ipython",
    "version": 3
   },
   "file_extension": ".py",
   "mimetype": "text/x-python",
   "name": "python",
   "nbconvert_exporter": "python",
   "pygments_lexer": "ipython3",
   "version": "3.7.7"
  }
 },
 "nbformat": 4,
 "nbformat_minor": 2
}
